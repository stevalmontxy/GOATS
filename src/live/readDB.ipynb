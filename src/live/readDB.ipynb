{
 "cells": [
  {
   "cell_type": "markdown",
   "metadata": {},
   "source": [
    "This notebook is just a convenience diagnostic feature to check the contents of the portfolio from the device that is running the scripts"
   ]
  },
  {
   "cell_type": "code",
   "execution_count": 56,
   "metadata": {},
   "outputs": [
    {
     "name": "stdout",
     "output_type": "stream",
     "text": [
      "None\n",
      "False\n"
     ]
    },
    {
     "data": {
      "text/plain": [
       "[Position(ID=0, symbol='TSLA', qty=100, entryDate=None, exitDate=None, option=asset_id=UUID('8ccae427-5dd0-45b3-b5fe-7ba5e422c766') symbol='TSLA' exchange=<AssetExchange.NASDAQ: 'NASDAQ'> asset_class=<AssetClass.US_EQUITY: 'us_equity'> asset_marginable=True avg_entry_price='422.9697' qty='100' side=<PositionSide.LONG: 'long'> market_value='40614' cost_basis='42296.97' unrealized_pl='-1682.97' unrealized_plpc='-0.0397893749835981' unrealized_intraday_pl='1704' unrealized_intraday_plpc='0.0437933693138011' current_price='406.14' lastday_price='389.1' change_today='0.0437933693138011' swap_rate=None avg_entry_swap_rate=None usd=None qty_available='100', stock=None)]"
      ]
     },
     "execution_count": 56,
     "metadata": {},
     "output_type": "execute_result"
    }
   ],
   "source": [
    "import shelve\n",
    "import sys\n",
    "sys.path.insert(1,'/home/stevalmontxy/Documents/GitHub/Options-Backtesting-Python/src')\n",
    "import goats\n",
    "from goats.classes import Portfolio\n",
    "from goats.live_funcs import updatePortfolio\n",
    "from datetime import date, timedelta\n",
    "\n",
    "with shelve.open(\"goatsDB\") as db:\n",
    "    port: Portfolio = db.get('portfolio') # using db.get will return None if not found instead of error\n",
    "\n",
    "yester = date.today()-timedelta(days=1)\n",
    "\n",
    "for p in port.positions:\n",
    "    print(p.exitDate)\n",
    "    print(p.exitDate == yester)\n",
    "port.positions\n"
   ]
  },
  {
   "cell_type": "code",
   "execution_count": 55,
   "metadata": {},
   "outputs": [
    {
     "name": "stdout",
     "output_type": "stream",
     "text": [
      "symbol found\n",
      "symbol found\n"
     ]
    },
    {
     "data": {
      "text/plain": [
       "[Position(ID=0, symbol='TSLA', qty=100, entryDate=None, exitDate=None, option=asset_id=UUID('8ccae427-5dd0-45b3-b5fe-7ba5e422c766') symbol='TSLA' exchange=<AssetExchange.NASDAQ: 'NASDAQ'> asset_class=<AssetClass.US_EQUITY: 'us_equity'> asset_marginable=True avg_entry_price='422.9697' qty='100' side=<PositionSide.LONG: 'long'> market_value='40614' cost_basis='42296.97' unrealized_pl='-1682.97' unrealized_plpc='-0.0397893749835981' unrealized_intraday_pl='1704' unrealized_intraday_plpc='0.0437933693138011' current_price='406.14' lastday_price='389.1' change_today='0.0437933693138011' swap_rate=None avg_entry_swap_rate=None usd=None qty_available='100', stock=None)]"
      ]
     },
     "execution_count": 55,
     "metadata": {},
     "output_type": "execute_result"
    }
   ],
   "source": [
    "portNew = updatePortfolio(updateDB=True)\n",
    "\n",
    "portNew.positions"
   ]
  }
 ],
 "metadata": {
  "kernelspec": {
   "display_name": "Python 3",
   "language": "python",
   "name": "python3"
  },
  "language_info": {
   "codemirror_mode": {
    "name": "ipython",
    "version": 3
   },
   "file_extension": ".py",
   "mimetype": "text/x-python",
   "name": "python",
   "nbconvert_exporter": "python",
   "pygments_lexer": "ipython3",
   "version": "3.13.1"
  }
 },
 "nbformat": 4,
 "nbformat_minor": 2
}
