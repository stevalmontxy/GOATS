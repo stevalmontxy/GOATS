{
 "cells": [
  {
   "cell_type": "markdown",
   "metadata": {},
   "source": [
    "This notebook is just a convenience feature to check the contents of the portfolio from the device that is running the scripts"
   ]
  },
  {
   "cell_type": "code",
   "execution_count": 5,
   "metadata": {},
   "outputs": [
    {
     "name": "stdout",
     "output_type": "stream",
     "text": [
      "None\n",
      "False\n",
      "2025-02-04\n",
      "False\n",
      "2025-02-04\n",
      "False\n"
     ]
    },
    {
     "data": {
      "text/plain": [
       "[Position(ID=0, symbol='TSLA', qty=100, entryDate=None, exitDate=None, option=asset_id=UUID('8ccae427-5dd0-45b3-b5fe-7ba5e422c766') symbol='TSLA' exchange=<AssetExchange.NASDAQ: 'NASDAQ'> asset_class=<AssetClass.US_EQUITY: 'us_equity'> asset_marginable=True avg_entry_price='422.9697' qty='100' side=<PositionSide.LONG: 'long'> market_value='40614' cost_basis='42296.97' unrealized_pl='-1682.97' unrealized_plpc='-0.0397893749835981' unrealized_intraday_pl='1704' unrealized_intraday_plpc='0.0437933693138011' current_price='406.14' lastday_price='389.1' change_today='0.0437933693138011' swap_rate=None avg_entry_swap_rate=None usd=None qty_available='100', stock=None),\n",
       " Position(ID=0, symbol='SPY250205C00598000', qty=2, entryDate=2025-02-03, exitDate=2025-02-04, option=id='25538e24-6918-43ac-812d-3b24278c8518' symbol='SPY250205C00598000' name='SPY Feb 05 2025 598 Call' status=<AssetStatus.ACTIVE: 'active'> tradable=True expiration_date=datetime.date(2025, 2, 5) root_symbol='SPY' underlying_symbol='SPY' underlying_asset_id=UUID('b28f4066-5c6d-479b-a2af-85dc1a8f16fb') type=<ContractType.CALL: 'call'> style=<ExerciseStyle.AMERICAN: 'american'> strike_price=598.0 size='100' open_interest='781' open_interest_date=datetime.date(2025, 1, 30) close_price='6.1' close_price_date=datetime.date(2025, 1, 31), stock=None),\n",
       " Position(ID=0, symbol='SPY250205P00599000', qty=1, entryDate=2025-02-03, exitDate=2025-02-04, option=id='37544285-586c-4593-aad2-4131c78a249e' symbol='SPY250205P00599000' name='SPY Feb 05 2025 599 Put' status=<AssetStatus.ACTIVE: 'active'> tradable=True expiration_date=datetime.date(2025, 2, 5) root_symbol='SPY' underlying_symbol='SPY' underlying_asset_id=UUID('b28f4066-5c6d-479b-a2af-85dc1a8f16fb') type=<ContractType.PUT: 'put'> style=<ExerciseStyle.AMERICAN: 'american'> strike_price=599.0 size='100' open_interest='687' open_interest_date=datetime.date(2025, 1, 30) close_price='2.68' close_price_date=datetime.date(2025, 1, 31), stock=None)]"
      ]
     },
     "execution_count": 5,
     "metadata": {},
     "output_type": "execute_result"
    }
   ],
   "source": [
    "import shelve\n",
    "import sys\n",
    "sys.path.insert(1,'/home/stevalmontxy/Documents/GitHub/Options-Backtesting-Python/src')\n",
    "import goats\n",
    "from goats.classes import Portfolio\n",
    "from goats.live_funcs import updatePortfolio\n",
    "from datetime import date, timedelta\n",
    "\n",
    "with shelve.open(\"goatsDB\") as db:\n",
    "    port: Portfolio = db.get('portfolio') # using db.get will return None if not found instead of error\n",
    "\n",
    "yester = date.today()-timedelta(days=1)\n",
    "\n",
    "for p in port.positions:\n",
    "    print(p.exitDate)\n",
    "    print(p.exitDate == yester)\n",
    "port.positions\n"
   ]
  },
  {
   "cell_type": "code",
   "execution_count": 3,
   "metadata": {},
   "outputs": [
    {
     "data": {
      "text/plain": [
       "[Position(ID=0, symbol='TSLA', qty=100, entryDate=None, exitDate=None, option=asset_id=UUID('8ccae427-5dd0-45b3-b5fe-7ba5e422c766') symbol='TSLA' exchange=<AssetExchange.NASDAQ: 'NASDAQ'> asset_class=<AssetClass.US_EQUITY: 'us_equity'> asset_marginable=True avg_entry_price='422.9697' qty='100' side=<PositionSide.LONG: 'long'> market_value='40614' cost_basis='42296.97' unrealized_pl='-1682.97' unrealized_plpc='-0.0397893749835981' unrealized_intraday_pl='1704' unrealized_intraday_plpc='0.0437933693138011' current_price='406.14' lastday_price='389.1' change_today='0.0437933693138011' swap_rate=None avg_entry_swap_rate=None usd=None qty_available='100', stock=None),\n",
       " Position(ID=0, symbol='SPY250205C00598000', qty=2, entryDate=2025-02-03, exitDate=2025-02-04, option=id='25538e24-6918-43ac-812d-3b24278c8518' symbol='SPY250205C00598000' name='SPY Feb 05 2025 598 Call' status=<AssetStatus.ACTIVE: 'active'> tradable=True expiration_date=datetime.date(2025, 2, 5) root_symbol='SPY' underlying_symbol='SPY' underlying_asset_id=UUID('b28f4066-5c6d-479b-a2af-85dc1a8f16fb') type=<ContractType.CALL: 'call'> style=<ExerciseStyle.AMERICAN: 'american'> strike_price=598.0 size='100' open_interest='781' open_interest_date=datetime.date(2025, 1, 30) close_price='6.1' close_price_date=datetime.date(2025, 1, 31), stock=None),\n",
       " Position(ID=0, symbol='SPY250205P00599000', qty=1, entryDate=2025-02-03, exitDate=2025-02-04, option=id='37544285-586c-4593-aad2-4131c78a249e' symbol='SPY250205P00599000' name='SPY Feb 05 2025 599 Put' status=<AssetStatus.ACTIVE: 'active'> tradable=True expiration_date=datetime.date(2025, 2, 5) root_symbol='SPY' underlying_symbol='SPY' underlying_asset_id=UUID('b28f4066-5c6d-479b-a2af-85dc1a8f16fb') type=<ContractType.PUT: 'put'> style=<ExerciseStyle.AMERICAN: 'american'> strike_price=599.0 size='100' open_interest='687' open_interest_date=datetime.date(2025, 1, 30) close_price='2.68' close_price_date=datetime.date(2025, 1, 31), stock=None)]"
      ]
     },
     "execution_count": 3,
     "metadata": {},
     "output_type": "execute_result"
    }
   ],
   "source": [
    "portNew = updatePortfolio()\n",
    "\n",
    "portNew.positions"
   ]
  }
 ],
 "metadata": {
  "kernelspec": {
   "display_name": "Python 3",
   "language": "python",
   "name": "python3"
  },
  "language_info": {
   "codemirror_mode": {
    "name": "ipython",
    "version": 3
   },
   "file_extension": ".py",
   "mimetype": "text/x-python",
   "name": "python",
   "nbconvert_exporter": "python",
   "pygments_lexer": "ipython3",
   "version": "3.13.1"
  }
 },
 "nbformat": 4,
 "nbformat_minor": 2
}
