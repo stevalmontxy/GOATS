{
 "cells": [
  {
   "cell_type": "markdown",
   "id": "a0e9e85b",
   "metadata": {},
   "source": [
    "#### Run Backtest file\n",
    "\n",
    "this file is for executing a backtest. it's easier to do in a jupyter notebook"
   ]
  },
  {
   "cell_type": "markdown",
   "id": "621632ad",
   "metadata": {},
   "source": [
    "Setup"
   ]
  },
  {
   "cell_type": "code",
   "execution_count": null,
   "id": "cc3fad28",
   "metadata": {},
   "outputs": [],
   "source": [
    "bt = Backtest(commission = 0, initvalue = 5000)\n",
    "data = readdata(csv file)\n",
    "bt.importdata(data)\n",
    "\n",
    "# define strat\n",
    "def customstrat(Strategy):\n",
    "    pass\n",
    "\n",
    "bt.setstrat(customstrat)"
   ]
  },
  {
   "cell_type": "markdown",
   "id": "d412d61a",
   "metadata": {},
   "source": [
    "Execute"
   ]
  },
  {
   "cell_type": "code",
   "execution_count": null,
   "id": "5905bbbc",
   "metadata": {},
   "outputs": [],
   "source": [
    "bt.run(startdate, enddate)"
   ]
  },
  {
   "cell_type": "markdown",
   "id": "5984d2a0",
   "metadata": {},
   "source": [
    "Post analysis"
   ]
  },
  {
   "cell_type": "code",
   "execution_count": null,
   "id": "b736f814",
   "metadata": {},
   "outputs": [],
   "source": [
    "bt.plotprofit()\n",
    "bt.plottrades()\n",
    "bt.plotsignals()"
   ]
  }
 ],
 "metadata": {
  "kernelspec": {
   "display_name": ".venv",
   "language": "python",
   "name": "python3"
  },
  "language_info": {
   "name": "python",
   "version": "3.13.7"
  }
 },
 "nbformat": 4,
 "nbformat_minor": 5
}
