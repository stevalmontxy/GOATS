{
 "cells": [
  {
   "cell_type": "markdown",
   "metadata": {},
   "source": [
    "### Import library from separate folder"
   ]
  },
  {
   "cell_type": "code",
   "execution_count": 1,
   "metadata": {},
   "outputs": [],
   "source": [
    "import sys\n",
    "sys.path.append('../../src/core/')\n",
    "# import goats\n",
    "from goats import Position, Option, Portfolio, Strategy, Backtest\n",
    "from sentiment_v1 import calcSentiment, sentiment2order, orderMakerLive"
   ]
  },
  {
   "cell_type": "code",
   "execution_count": 2,
   "metadata": {},
   "outputs": [
    {
     "ename": "TypeError",
     "evalue": "orderMakerLive() takes 0 positional arguments but 2 were given",
     "output_type": "error",
     "traceback": [
      "\u001b[1;31m---------------------------------------------------------------------------\u001b[0m",
      "\u001b[1;31mTypeError\u001b[0m                                 Traceback (most recent call last)",
      "Cell \u001b[1;32mIn[2], line 7\u001b[0m\n\u001b[0;32m      4\u001b[0m vol, \u001b[38;5;28mdir\u001b[39m \u001b[38;5;241m=\u001b[39m calcSentiment(t, data)\n\u001b[0;32m      6\u001b[0m vol\n\u001b[1;32m----> 7\u001b[0m \u001b[43msentiment2order\u001b[49m\u001b[43m(\u001b[49m\u001b[43mvol\u001b[49m\u001b[43m,\u001b[49m\u001b[43m \u001b[49m\u001b[38;5;28;43mdir\u001b[39;49m\u001b[43m,\u001b[49m\u001b[43m \u001b[49m\u001b[43mbacktest\u001b[49m\u001b[38;5;241;43m=\u001b[39;49m\u001b[38;5;28;43;01mFalse\u001b[39;49;00m\u001b[43m)\u001b[49m\n\u001b[0;32m      9\u001b[0m \u001b[38;5;66;03m# SentimentV1.orderMakerLive()\u001b[39;00m\n",
      "File \u001b[1;32mc:\\Users\\sxyan\\OneDrive\\Documents\\Github\\Options-Backtesting-Python\\tests\\live_trader\\../../src/core\\sentiment_v1.py:45\u001b[0m, in \u001b[0;36msentiment2order\u001b[1;34m(vol, dir, backtest, time)\u001b[0m\n\u001b[0;32m     43\u001b[0m \u001b[38;5;28;01mfor\u001b[39;00m vol_threshold, dir_threshold, action \u001b[38;5;129;01min\u001b[39;00m conditions:\n\u001b[0;32m     44\u001b[0m     \u001b[38;5;28;01mif\u001b[39;00m vol \u001b[38;5;241m<\u001b[39m vol_threshold \u001b[38;5;129;01mand\u001b[39;00m \u001b[38;5;28mdir\u001b[39m \u001b[38;5;241m<\u001b[39m dir_threshold:\n\u001b[1;32m---> 45\u001b[0m         \u001b[43maction\u001b[49m\u001b[43m(\u001b[49m\u001b[43m)\u001b[49m\n",
      "File \u001b[1;32mc:\\Users\\sxyan\\OneDrive\\Documents\\Github\\Options-Backtesting-Python\\tests\\live_trader\\../../src/core\\sentiment_v1.py:35\u001b[0m, in \u001b[0;36msentiment2order.<locals>.<lambda>\u001b[1;34m()\u001b[0m\n\u001b[0;32m     23\u001b[0m     \u001b[38;5;28;01melse\u001b[39;00m:\n\u001b[0;32m     24\u001b[0m         orderMakerLive(\u001b[38;5;241m*\u001b[39margs, \u001b[38;5;241m*\u001b[39m\u001b[38;5;241m*\u001b[39mkwargs)\n\u001b[0;32m     26\u001b[0m conditions \u001b[38;5;241m=\u001b[39m [\n\u001b[0;32m     27\u001b[0m     (\u001b[38;5;241m0.3\u001b[39m, \u001b[38;5;241m0.2\u001b[39m, \u001b[38;5;28;01mlambda\u001b[39;00m: execute_order(\u001b[38;5;124m'\u001b[39m\u001b[38;5;124m1itmcall\u001b[39m\u001b[38;5;124m'\u001b[39m, \u001b[38;5;124m'\u001b[39m\u001b[38;5;124m2atmput\u001b[39m\u001b[38;5;124m'\u001b[39m)), \u001b[38;5;66;03m#vol: 0-.3, dir: 0-.2\u001b[39;00m\n\u001b[0;32m     28\u001b[0m     (\u001b[38;5;241m0.3\u001b[39m, \u001b[38;5;241m0.8\u001b[39m, \u001b[38;5;28;01mlambda\u001b[39;00m: execute_order(\u001b[38;5;124m'\u001b[39m\u001b[38;5;124m1atmcall\u001b[39m\u001b[38;5;124m'\u001b[39m, \u001b[38;5;124m'\u001b[39m\u001b[38;5;124m1atmput\u001b[39m\u001b[38;5;124m'\u001b[39m)), \u001b[38;5;66;03m# vol: 0-.3, dir: .2-.8\u001b[39;00m\n\u001b[0;32m     29\u001b[0m     (\u001b[38;5;241m0.3\u001b[39m, \u001b[38;5;241m1.0\u001b[39m, \u001b[38;5;28;01mlambda\u001b[39;00m: execute_order(\u001b[38;5;124m'\u001b[39m\u001b[38;5;124m2atncall\u001b[39m\u001b[38;5;124m'\u001b[39m, \u001b[38;5;124m'\u001b[39m\u001b[38;5;124m1itmput\u001b[39m\u001b[38;5;124m'\u001b[39m)),\n\u001b[0;32m     30\u001b[0m     (\u001b[38;5;241m0.7\u001b[39m, \u001b[38;5;241m0.15\u001b[39m, \u001b[38;5;28;01mlambda\u001b[39;00m: execute_order(\u001b[38;5;124m'\u001b[39m\u001b[38;5;124m1atmcall\u001b[39m\u001b[38;5;124m'\u001b[39m, \u001b[38;5;124m'\u001b[39m\u001b[38;5;124m1otmcall+2atmcall\u001b[39m\u001b[38;5;124m'\u001b[39m)), \u001b[38;5;66;03m# vol: .3-.7, dir: 0-.15\u001b[39;00m\n\u001b[0;32m     31\u001b[0m     (\u001b[38;5;241m0.7\u001b[39m, \u001b[38;5;241m0.4\u001b[39m, \u001b[38;5;28;01mlambda\u001b[39;00m: execute_order(\u001b[38;5;124m'\u001b[39m\u001b[38;5;124m1atmcall\u001b[39m\u001b[38;5;124m'\u001b[39m, \u001b[38;5;124m'\u001b[39m\u001b[38;5;124m2atmput\u001b[39m\u001b[38;5;124m'\u001b[39m)), \u001b[38;5;66;03m# vol: .3-.7, dir: 0-.4\u001b[39;00m\n\u001b[0;32m     32\u001b[0m     \u001b[38;5;66;03m# (0.7, 0.6, lambda: SentimentV1.orderMaker('1itmcall', '1itmput')),\u001b[39;00m\n\u001b[0;32m     33\u001b[0m     (\u001b[38;5;241m0.7\u001b[39m, \u001b[38;5;241m0.6\u001b[39m, \u001b[38;5;28;01mlambda\u001b[39;00m: execute_order([{\u001b[38;5;124m'\u001b[39m\u001b[38;5;124mstrikeDist\u001b[39m\u001b[38;5;124m'\u001b[39m: \u001b[38;5;241m1\u001b[39m, \u001b[38;5;124m'\u001b[39m\u001b[38;5;124mexprDist\u001b[39m\u001b[38;5;124m'\u001b[39m: \u001b[38;5;241m2\u001b[39m, \u001b[38;5;124m'\u001b[39m\u001b[38;5;124mside\u001b[39m\u001b[38;5;124m'\u001b[39m: \u001b[38;5;124m'\u001b[39m\u001b[38;5;124mcall\u001b[39m\u001b[38;5;124m'\u001b[39m, \u001b[38;5;124m'\u001b[39m\u001b[38;5;124mqty\u001b[39m\u001b[38;5;124m'\u001b[39m: \u001b[38;5;241m1\u001b[39m},\n\u001b[0;32m     34\u001b[0m                                     {\u001b[38;5;124m'\u001b[39m\u001b[38;5;124mstrikeDist\u001b[39m\u001b[38;5;124m'\u001b[39m: \u001b[38;5;241m-\u001b[39m\u001b[38;5;241m1\u001b[39m, \u001b[38;5;124m'\u001b[39m\u001b[38;5;124mexprDist\u001b[39m\u001b[38;5;124m'\u001b[39m: \u001b[38;5;241m2\u001b[39m, \u001b[38;5;124m'\u001b[39m\u001b[38;5;124mside\u001b[39m\u001b[38;5;124m'\u001b[39m: \u001b[38;5;124m'\u001b[39m\u001b[38;5;124mput\u001b[39m\u001b[38;5;124m'\u001b[39m, \u001b[38;5;124m'\u001b[39m\u001b[38;5;124mqty\u001b[39m\u001b[38;5;124m'\u001b[39m: \u001b[38;5;241m1\u001b[39m}], backtest, time)), \u001b[38;5;66;03m#'1itmcall', '1itmput'\u001b[39;00m\n\u001b[1;32m---> 35\u001b[0m     (\u001b[38;5;241m0.7\u001b[39m, \u001b[38;5;241m0.85\u001b[39m, \u001b[38;5;28;01mlambda\u001b[39;00m: \u001b[43mexecute_order\u001b[49m\u001b[43m(\u001b[49m\u001b[38;5;124;43m'\u001b[39;49m\u001b[38;5;124;43m2atmcall\u001b[39;49m\u001b[38;5;124;43m'\u001b[39;49m\u001b[43m,\u001b[49m\u001b[43m \u001b[49m\u001b[38;5;124;43m'\u001b[39;49m\u001b[38;5;124;43m1atmput\u001b[39;49m\u001b[38;5;124;43m'\u001b[39;49m\u001b[43m)\u001b[49m),\n\u001b[0;32m     36\u001b[0m     (\u001b[38;5;241m0.7\u001b[39m, \u001b[38;5;241m1.0\u001b[39m, \u001b[38;5;28;01mlambda\u001b[39;00m: execute_order(\u001b[38;5;124m'\u001b[39m\u001b[38;5;124m1OTMcall+2atmcall\u001b[39m\u001b[38;5;124m'\u001b[39m, \u001b[38;5;124m'\u001b[39m\u001b[38;5;124m1atmput\u001b[39m\u001b[38;5;124m'\u001b[39m)),\n\u001b[0;32m     37\u001b[0m     (\u001b[38;5;241m1.0\u001b[39m, \u001b[38;5;241m0.25\u001b[39m, \u001b[38;5;28;01mlambda\u001b[39;00m: execute_order(\u001b[38;5;124m'\u001b[39m\u001b[38;5;124m2atmcall\u001b[39m\u001b[38;5;124m'\u001b[39m, \u001b[38;5;124m'\u001b[39m\u001b[38;5;124m2otmput+1atmput\u001b[39m\u001b[38;5;124m'\u001b[39m)),  \u001b[38;5;66;03m# THESE MAYBE EXP A DAY EARLY SOME\u001b[39;00m\n\u001b[0;32m     38\u001b[0m     (\u001b[38;5;241m1.0\u001b[39m, \u001b[38;5;241m0.75\u001b[39m, \u001b[38;5;28;01mlambda\u001b[39;00m: execute_order(\u001b[38;5;124m'\u001b[39m\u001b[38;5;124m2ATMcall\u001b[39m\u001b[38;5;124m'\u001b[39m, \u001b[38;5;124m'\u001b[39m\u001b[38;5;124m2atmput\u001b[39m\u001b[38;5;124m'\u001b[39m)),\n\u001b[0;32m     39\u001b[0m     (\u001b[38;5;241m1.0\u001b[39m, \u001b[38;5;241m1.0\u001b[39m, \u001b[38;5;28;01mlambda\u001b[39;00m: execute_order(\u001b[38;5;124m'\u001b[39m\u001b[38;5;124m2otmcall+1atmcall\u001b[39m\u001b[38;5;124m'\u001b[39m, \u001b[38;5;124m'\u001b[39m\u001b[38;5;124m2atmput\u001b[39m\u001b[38;5;124m'\u001b[39m)), \u001b[38;5;66;03m# vol: .7-1, dir: .75-1\u001b[39;00m\n\u001b[0;32m     40\u001b[0m ]\n\u001b[0;32m     41\u001b[0m \u001b[38;5;250m\u001b[39m\u001b[38;5;124;03m'''strike, expr, side, qty\u001b[39;00m\n\u001b[0;32m     42\u001b[0m \u001b[38;5;124;03m    strike(distance), expr(distance), side, qty '''\u001b[39;00m\n\u001b[0;32m     43\u001b[0m \u001b[38;5;28;01mfor\u001b[39;00m vol_threshold, dir_threshold, action \u001b[38;5;129;01min\u001b[39;00m conditions:\n",
      "File \u001b[1;32mc:\\Users\\sxyan\\OneDrive\\Documents\\Github\\Options-Backtesting-Python\\tests\\live_trader\\../../src/core\\sentiment_v1.py:24\u001b[0m, in \u001b[0;36msentiment2order.<locals>.execute_order\u001b[1;34m(*args, **kwargs)\u001b[0m\n\u001b[0;32m     22\u001b[0m     orderMakerBt(\u001b[38;5;241m*\u001b[39margs, \u001b[38;5;241m*\u001b[39m\u001b[38;5;241m*\u001b[39mkwargs)\n\u001b[0;32m     23\u001b[0m \u001b[38;5;28;01melse\u001b[39;00m:\n\u001b[1;32m---> 24\u001b[0m     \u001b[43morderMakerLive\u001b[49m\u001b[43m(\u001b[49m\u001b[38;5;241;43m*\u001b[39;49m\u001b[43margs\u001b[49m\u001b[43m,\u001b[49m\u001b[43m \u001b[49m\u001b[38;5;241;43m*\u001b[39;49m\u001b[38;5;241;43m*\u001b[39;49m\u001b[43mkwargs\u001b[49m\u001b[43m)\u001b[49m\n",
      "\u001b[1;31mTypeError\u001b[0m: orderMakerLive() takes 0 positional arguments but 2 were given"
     ]
    }
   ],
   "source": [
    "t =9\n",
    "data = 0\n",
    "\n",
    "vol, dir = calcSentiment(t, data)\n",
    "\n",
    "vol\n",
    "sentiment2order(vol, dir, backtest=False)\n",
    "\n",
    "# SentimentV1.orderMakerLive()"
   ]
  }
 ],
 "metadata": {
  "kernelspec": {
   "display_name": "Python 3",
   "language": "python",
   "name": "python3"
  },
  "language_info": {
   "codemirror_mode": {
    "name": "ipython",
    "version": 3
   },
   "file_extension": ".py",
   "mimetype": "text/x-python",
   "name": "python",
   "nbconvert_exporter": "python",
   "pygments_lexer": "ipython3",
   "version": "3.12.0"
  }
 },
 "nbformat": 4,
 "nbformat_minor": 2
}
