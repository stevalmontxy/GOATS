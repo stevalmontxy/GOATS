{
 "cells": [
  {
   "cell_type": "markdown",
   "metadata": {},
   "source": [
    "### Import library from separate folder"
   ]
  },
  {
   "cell_type": "code",
   "execution_count": 1,
   "metadata": {},
   "outputs": [],
   "source": [
    "import sys\n",
    "sys.path.append('../../src/core/')\n",
    "# import goats\n",
    "from goats import Position, Option, Portfolio, Strategy\n",
    "from sentiment_v1 import calcSentiment, sentiment2order\n",
    "from live_funcs import createUnderlydf, orderMakerLive #, findClosestOption"
   ]
  },
  {
   "cell_type": "code",
   "execution_count": 2,
   "metadata": {},
   "outputs": [
    {
     "name": "stdout",
     "output_type": "stream",
     "text": [
      "GOATS Jan 13, 2025 19:55 EST: Orders placed successfully Orders successfully placed today :)\n",
      "2 shares of SPY Jan 15 2025 582 Call -- OrderStatus.ACCEPTED\n",
      "1 shares of SPY Jan 15 2025 583 Put -- OrderStatus.ACCEPTED\n",
      "\n"
     ]
    }
   ],
   "source": [
    "data, latestPrice, _, _ = createUnderlydf(\"SPY\", '1hour', 30)\n",
    "vol, dir = calcSentiment(data)\n",
    "orders = sentiment2order(vol, dir)\n",
    "orderMakerLive(orders, latestPrice)\n",
    "# goalOpt = Option(601.2, '2025-01-16', 'put')\n",
    "# print(goalOpt)\n",
    "# closestOpt = findClosestOption(goalOpt)\n"
   ]
  },
  {
   "cell_type": "code",
   "execution_count": 3,
   "metadata": {},
   "outputs": [
    {
     "data": {
      "text/plain": [
       "580.15"
      ]
     },
     "execution_count": 3,
     "metadata": {},
     "output_type": "execute_result"
    }
   ],
   "source": [
    "latestPrice"
   ]
  },
  {
   "cell_type": "code",
   "execution_count": 7,
   "metadata": {},
   "outputs": [
    {
     "data": {
      "text/plain": [
       "{   'close_price': '19.99',\n",
       "    'close_price_date': datetime.date(2025, 1, 10),\n",
       "    'expiration_date': datetime.date(2025, 1, 16),\n",
       "    'id': 'f2dfd941-a758-4c65-9077-fa4e0fae4560',\n",
       "    'name': 'SPY Jan 16 2025 601 Put',\n",
       "    'open_interest': '51',\n",
       "    'open_interest_date': datetime.date(2025, 1, 8),\n",
       "    'root_symbol': 'SPY',\n",
       "    'size': '100',\n",
       "    'status': <AssetStatus.ACTIVE: 'active'>,\n",
       "    'strike_price': 601.0,\n",
       "    'style': <ExerciseStyle.AMERICAN: 'american'>,\n",
       "    'symbol': 'SPY250116P00601000',\n",
       "    'tradable': True,\n",
       "    'type': <ContractType.PUT: 'put'>,\n",
       "    'underlying_asset_id': UUID('b28f4066-5c6d-479b-a2af-85dc1a8f16fb'),\n",
       "    'underlying_symbol': 'SPY'}"
      ]
     },
     "execution_count": 7,
     "metadata": {},
     "output_type": "execute_result"
    }
   ],
   "source": [
    "closestOpt"
   ]
  },
  {
   "cell_type": "code",
   "execution_count": 12,
   "metadata": {},
   "outputs": [
    {
     "name": "stdout",
     "output_type": "stream",
     "text": [
      "{'a': 1, 'b': 2, 'c': 3, 'd': 4, 'e': 2, 'g': 3, 'port': <goats.Portfolio object at 0x000002D0F8197650>}\n",
      "3\n",
      "{'a': 1, 'b': 2, 'c': 3, 'd': 4, 'e': 2, 'g': 3, 'port': <goats.Portfolio object at 0x000002D0F8197650>}\n"
     ]
    },
    {
     "data": {
      "text/plain": [
       "<goats.Portfolio at 0x2d0f8197650>"
      ]
     },
     "execution_count": 12,
     "metadata": {},
     "output_type": "execute_result"
    }
   ],
   "source": [
    "import shelve\n",
    "\n",
    "data: dict = {'a':1,'e':2,'g':3, 'd':4, 'port': Portfolio(initialCapital=10000)}\n",
    "\n",
    "with shelve.open(\"testDB\") as db:\n",
    "    db['a'] = 1\n",
    "    db['b'] = 2\n",
    "    db['c'] = 3\n",
    "    #\n",
    "    print(dict(db))\n",
    "    print(db['c'])\n",
    "    #\n",
    "    db.update(data) # this will replace old ones with new ones, leave old. ex: if old db has c and new data has no c, c is left unchanged\n",
    "    print(dict(db))\n",
    "\n",
    "    port = db['port'] # assigning anything using db must be done in this strcture\n",
    "    port: Portfolio = db['port'] # use type hinting can help\n",
    "    ab = db.get('a') #using db.get will return None if not found, instead of error\n",
    "\n",
    "\n",
    "port # then it can be accessed outside\n"
   ]
  }
 ],
 "metadata": {
  "kernelspec": {
   "display_name": "Python 3",
   "language": "python",
   "name": "python3"
  },
  "language_info": {
   "codemirror_mode": {
    "name": "ipython",
    "version": 3
   },
   "file_extension": ".py",
   "mimetype": "text/x-python",
   "name": "python",
   "nbconvert_exporter": "python",
   "pygments_lexer": "ipython3",
   "version": "3.12.0"
  }
 },
 "nbformat": 4,
 "nbformat_minor": 2
}
