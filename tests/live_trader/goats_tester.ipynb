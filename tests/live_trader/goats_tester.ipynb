{
 "cells": [
  {
   "cell_type": "markdown",
   "metadata": {},
   "source": [
    "### Import library from separate folder"
   ]
  },
  {
   "cell_type": "code",
   "execution_count": 1,
   "metadata": {},
   "outputs": [],
   "source": [
    "import sys\n",
    "sys.path.append('../../src/core/')\n",
    "# import goats\n",
    "from goats import Position, Option, Portfolio, Strategy\n",
    "from sentiment_v1 import calcSentiment, sentiment2order\n",
    "from live_funcs import createUnderlydf, orderMakerLive, updatePortfolio, firstDayInit, closePosition #, findClosestOption\n",
    "\n",
    "from datetime import datetime, date, timedelta"
   ]
  },
  {
   "cell_type": "code",
   "execution_count": 3,
   "metadata": {},
   "outputs": [
    {
     "name": "stdout",
     "output_type": "stream",
     "text": [
      "GOATS Jan 14, 2025 12:01 EST: Orders placed successfully Orders successfully placed today :)\n",
      "2 shares of SPY Jan 16 2025 578 Call -- OrderStatus.PENDING_NEW\n",
      "1 shares of SPY Jan 16 2025 579 Put -- OrderStatus.PENDING_NEW\n",
      "\n"
     ]
    }
   ],
   "source": [
    "data, latestPrice, _, _ = createUnderlydf(\"SPY\", '1hour', 30)\n",
    "vol, dir = calcSentiment(data)\n",
    "orders = sentiment2order(vol, dir)\n",
    "port=Portfolio()\n",
    "o, res = orderMakerLive(orders, latestPrice,port)\n",
    "# goalOpt = Option(601.2, '2025-01-16', 'put')\n",
    "# print(goalOpt)\n",
    "# closestOpt = findClosestOption(goalOpt)\n"
   ]
  },
  {
   "cell_type": "code",
   "execution_count": 2,
   "metadata": {},
   "outputs": [
    {
     "name": "stdout",
     "output_type": "stream",
     "text": [
      "mid price: 2.83\n",
      "symbol='SPY250117C00593000' qty=2.0 notional=None side=<OrderSide.BUY: 'buy'> type=<OrderType.LIMIT: 'limit'> time_in_force=<TimeInForce.DAY: 'day'> order_class=None extended_hours=None client_order_id=None take_profit=None stop_loss=None position_intent=None limit_price=2.83\n",
      "mid price: 3.12\n",
      "symbol='SPY250117P00594000' qty=1.0 notional=None side=<OrderSide.BUY: 'buy'> type=<OrderType.LIMIT: 'limit'> time_in_force=<TimeInForce.DAY: 'day'> order_class=None extended_hours=None client_order_id=None take_profit=None stop_loss=None position_intent=None limit_price=3.12\n",
      "GOATS Jan 15, 2025 15:57 EST: Orders placed successfully Orders successfully placed today :)\n",
      "2 shares of SPY Jan 17 2025 593 Call -- OrderStatus.PENDING_NEW\n",
      "1 shares of SPY Jan 17 2025 594 Put -- OrderStatus.PENDING_NEW\n",
      "\n"
     ]
    }
   ],
   "source": [
    "firstDayInit()"
   ]
  },
  {
   "cell_type": "code",
   "execution_count": 3,
   "metadata": {},
   "outputs": [
    {
     "data": {
      "text/plain": [
       "[Position(ID=0, symbol='SPY250115P00583000', qty=1, entryDate=None, exitDate=None, option=asset_id=UUID('8efda20c-fc77-48a8-8284-6c00d27d106e') symbol='SPY250115P00583000' exchange=<AssetExchange.EMPTY: ''> asset_class=<AssetClass.US_OPTION: 'us_option'> asset_marginable=True avg_entry_price='3.09' qty='1' side=<PositionSide.LONG: 'long'> market_value='330' cost_basis='309' unrealized_pl='21' unrealized_plpc='0.0679611650485437' unrealized_intraday_pl='21' unrealized_intraday_plpc='0.0679611650485437' current_price='3.3' lastday_price='4.43' change_today='-0.255079006772009' swap_rate=None avg_entry_swap_rate=None usd=None qty_available='1', stock=None),\n",
       " Position(ID=0, symbol='SPY250116C00578000', qty=2, entryDate=None, exitDate=None, option=asset_id=UUID('b164a60d-0d83-40db-bc5e-6ef36b9c0273') symbol='SPY250116C00578000' exchange=<AssetExchange.EMPTY: ''> asset_class=<AssetClass.US_OPTION: 'us_option'> asset_marginable=True avg_entry_price='4.8' qty='2' side=<PositionSide.LONG: 'long'> market_value='1460' cost_basis='960' unrealized_pl='500' unrealized_plpc='0.5208333333333333' unrealized_intraday_pl='500' unrealized_intraday_plpc='0.5208333333333333' current_price='7.3' lastday_price='6.86' change_today='0.0641399416909621' swap_rate=None avg_entry_swap_rate=None usd=None qty_available='2', stock=None),\n",
       " Position(ID=0, symbol='SPY250116P00579000', qty=1, entryDate=None, exitDate=None, option=asset_id=UUID('dae8fb9c-857e-47e5-b9a1-c931d928620c') symbol='SPY250116P00579000' exchange=<AssetExchange.EMPTY: ''> asset_class=<AssetClass.US_OPTION: 'us_option'> asset_marginable=True avg_entry_price='3.3' qty='1' side=<PositionSide.LONG: 'long'> market_value='250' cost_basis='330' unrealized_pl='-80' unrealized_plpc='-0.2424242424242424' unrealized_intraday_pl='-80' unrealized_intraday_plpc='-0.2424242424242424' current_price='2.5' lastday_price='3.3' change_today='-0.2424242424242424' swap_rate=None avg_entry_swap_rate=None usd=None qty_available='1', stock=None),\n",
       " Position(ID=0, symbol='TSLA', qty=100, entryDate=None, exitDate=None, option=asset_id=UUID('8ccae427-5dd0-45b3-b5fe-7ba5e422c766') symbol='TSLA' exchange=<AssetExchange.NASDAQ: 'NASDAQ'> asset_class=<AssetClass.US_EQUITY: 'us_equity'> asset_marginable=True avg_entry_price='422.9697' qty='100' side=<PositionSide.LONG: 'long'> market_value='39470' cost_basis='42296.97' unrealized_pl='-2826.97' unrealized_plpc='-0.0668362296400901' unrealized_intraday_pl='-861' unrealized_intraday_plpc='-0.0213483424660931' current_price='394.7' lastday_price='403.31' change_today='-0.0213483424660931' swap_rate=None avg_entry_swap_rate=None usd=None qty_available='0', stock=None),\n",
       " Position(ID=0, symbol='TSLA250117C00430000', qty=-1, entryDate=None, exitDate=None, option=asset_id=UUID('abe0fafb-9e6f-448e-8e0a-020f3f0824d8') symbol='TSLA250117C00430000' exchange=<AssetExchange.EMPTY: ''> asset_class=<AssetClass.US_OPTION: 'us_option'> asset_marginable=True avg_entry_price='20.05' qty='-1' side=<PositionSide.SHORT: 'short'> market_value='-174' cost_basis='-2005' unrealized_pl='1831' unrealized_plpc='0.913216957605985' unrealized_intraday_pl='166' unrealized_intraday_plpc='0.4882352941176471' current_price='1.74' lastday_price='3.4' change_today='-0.4882352941176471' swap_rate=None avg_entry_swap_rate=None usd=None qty_available='-1', stock=None),\n",
       " Position(ID=0, symbol='SPY250117P00594000', qty=1, entryDate=None, exitDate=None, option=asset_id=UUID('713691ed-3c96-460f-b4a3-03f7c3934c57') symbol='SPY250117P00594000' exchange=<AssetExchange.EMPTY: ''> asset_class=<AssetClass.US_OPTION: 'us_option'> asset_marginable=True avg_entry_price='2.76' qty='1' side=<PositionSide.LONG: 'long'> market_value='302' cost_basis='276' unrealized_pl='26' unrealized_plpc='0.0942028985507246' unrealized_intraday_pl='26' unrealized_intraday_plpc='0.0942028985507246' current_price='3.02' lastday_price='12.71' change_today='-0.7623918174665618' swap_rate=None avg_entry_swap_rate=None usd=None qty_available='1', stock=None),\n",
       " Position(ID=0, symbol='SPY250117C00593000', qty=2, entryDate=2025-01-15, exitDate=2025-01-16, option=id='1b26b519-2206-471a-8269-75f1c72a017a' symbol='SPY250117C00593000' name='SPY Jan 17 2025 593 Call' status=<AssetStatus.ACTIVE: 'active'> tradable=True expiration_date=datetime.date(2025, 1, 17) root_symbol='SPY' underlying_symbol='SPY' underlying_asset_id=UUID('b28f4066-5c6d-479b-a2af-85dc1a8f16fb') type=<ContractType.CALL: 'call'> style=<ExerciseStyle.AMERICAN: 'american'> strike_price=593.0 size='100' open_interest='9508' open_interest_date=datetime.date(2025, 1, 13) close_price='0.93' close_price_date=datetime.date(2025, 1, 14), stock=None),\n",
       " Position(ID=0, symbol='SPY250117P00594000', qty=1, entryDate=2025-01-15, exitDate=2025-01-16, option=id='713691ed-3c96-460f-b4a3-03f7c3934c57' symbol='SPY250117P00594000' name='SPY Jan 17 2025 594 Put' status=<AssetStatus.ACTIVE: 'active'> tradable=True expiration_date=datetime.date(2025, 1, 17) root_symbol='SPY' underlying_symbol='SPY' underlying_asset_id=UUID('b28f4066-5c6d-479b-a2af-85dc1a8f16fb') type=<ContractType.PUT: 'put'> style=<ExerciseStyle.AMERICAN: 'american'> strike_price=594.0 size='100' open_interest='5945' open_interest_date=datetime.date(2025, 1, 13) close_price='12.71' close_price_date=datetime.date(2025, 1, 14), stock=None)]"
      ]
     },
     "execution_count": 3,
     "metadata": {},
     "output_type": "execute_result"
    }
   ],
   "source": [
    "import shelve\n",
    "with shelve.open(\"goatsDB\") as db:\n",
    "    port: Portfolio = db.get('portfolio') # using db.get will return None if not found instead of error\n",
    "\n",
    "port.positions"
   ]
  },
  {
   "cell_type": "code",
   "execution_count": 5,
   "metadata": {},
   "outputs": [
    {
     "data": {
      "text/plain": [
       "Portfolio: cash: $100000, # positions: 6, Acct value: 100000"
      ]
     },
     "execution_count": 5,
     "metadata": {},
     "output_type": "execute_result"
    }
   ],
   "source": [
    "port = updatePortfolio()\n",
    "port"
   ]
  },
  {
   "cell_type": "code",
   "execution_count": 3,
   "metadata": {},
   "outputs": [
    {
     "name": "stdout",
     "output_type": "stream",
     "text": [
      "close position failed\n",
      "PROBLEM PROBLEM BIG PROBLEM HAPPENED\n"
     ]
    },
    {
     "ename": "UnboundLocalError",
     "evalue": "cannot access local variable 'res' where it is not associated with a value",
     "output_type": "error",
     "traceback": [
      "\u001b[1;31m---------------------------------------------------------------------------\u001b[0m",
      "\u001b[1;31mUnboundLocalError\u001b[0m                         Traceback (most recent call last)",
      "Cell \u001b[1;32mIn[3], line 4\u001b[0m\n\u001b[0;32m      1\u001b[0m symbol \u001b[38;5;241m=\u001b[39m \u001b[38;5;124m'\u001b[39m\u001b[38;5;124mSPY250116P00579000\u001b[39m\u001b[38;5;124m'\u001b[39m\n\u001b[1;32m----> 4\u001b[0m \u001b[43mclosePosition\u001b[49m\u001b[43m(\u001b[49m\u001b[43mPosition\u001b[49m\u001b[43m(\u001b[49m\u001b[43msymbol\u001b[49m\u001b[38;5;241;43m=\u001b[39;49m\u001b[43msymbol\u001b[49m\u001b[43m,\u001b[49m\u001b[43m \u001b[49m\u001b[43mqty\u001b[49m\u001b[38;5;241;43m=\u001b[39;49m\u001b[38;5;241;43m1\u001b[39;49m\u001b[43m)\u001b[49m\u001b[43m,\u001b[49m\u001b[38;5;124;43m'\u001b[39;49m\u001b[38;5;124;43mlimit\u001b[39;49m\u001b[38;5;124;43m'\u001b[39;49m\u001b[43m)\u001b[49m\n",
      "File \u001b[1;32mc:\\Users\\sxyan\\OneDrive\\Documents\\Github\\Options-Backtesting-Python\\tests\\live_trader\\../../src/core\\live_funcs.py:323\u001b[0m, in \u001b[0;36mclosePosition\u001b[1;34m(pos, orderType)\u001b[0m\n\u001b[0;32m    321\u001b[0m     \u001b[38;5;28mprint\u001b[39m(\u001b[38;5;124m'\u001b[39m\u001b[38;5;124mclose position failed\u001b[39m\u001b[38;5;124m'\u001b[39m)\n\u001b[0;32m    322\u001b[0m     recordResults(\u001b[38;5;124m'\u001b[39m\u001b[38;5;124mfailed to close order\u001b[39m\u001b[38;5;124m'\u001b[39m)\n\u001b[1;32m--> 323\u001b[0m \u001b[38;5;28;01mreturn\u001b[39;00m \u001b[43mres\u001b[49m\n",
      "\u001b[1;31mUnboundLocalError\u001b[0m: cannot access local variable 'res' where it is not associated with a value"
     ]
    }
   ],
   "source": [
    "symbol = 'SPY250116P00579000'\n",
    "\n",
    "\n",
    "closePosition(Position(symbol=symbol, qty=1),'limit')"
   ]
  },
  {
   "cell_type": "code",
   "execution_count": 5,
   "metadata": {},
   "outputs": [
    {
     "data": {
      "text/plain": [
       "{   'asset_class': <AssetClass.US_OPTION: 'us_option'>,\n",
       "    'asset_id': UUID('dae8fb9c-857e-47e5-b9a1-c931d928620c'),\n",
       "    'canceled_at': None,\n",
       "    'client_order_id': '20b00167-b81f-4ea2-9910-c4b38d91f789',\n",
       "    'created_at': datetime.datetime(2025, 1, 14, 17, 1, 16, 162585, tzinfo=TzInfo(UTC)),\n",
       "    'expired_at': None,\n",
       "    'extended_hours': False,\n",
       "    'failed_at': None,\n",
       "    'filled_at': None,\n",
       "    'filled_avg_price': None,\n",
       "    'filled_qty': '0',\n",
       "    'hwm': None,\n",
       "    'id': UUID('7efd25dc-180a-44a5-81fa-d47e59777553'),\n",
       "    'legs': None,\n",
       "    'limit_price': '3.3',\n",
       "    'notional': None,\n",
       "    'order_class': <OrderClass.SIMPLE: 'simple'>,\n",
       "    'order_type': <OrderType.LIMIT: 'limit'>,\n",
       "    'position_intent': <PositionIntent.BUY_TO_OPEN: 'buy_to_open'>,\n",
       "    'qty': '1',\n",
       "    'replaced_at': None,\n",
       "    'replaced_by': None,\n",
       "    'replaces': None,\n",
       "    'side': <OrderSide.BUY: 'buy'>,\n",
       "    'status': <OrderStatus.PENDING_NEW: 'pending_new'>,\n",
       "    'stop_price': None,\n",
       "    'submitted_at': datetime.datetime(2025, 1, 14, 17, 1, 16, 160815, tzinfo=TzInfo(UTC)),\n",
       "    'symbol': 'SPY250116P00579000',\n",
       "    'time_in_force': <TimeInForce.DAY: 'day'>,\n",
       "    'trail_percent': None,\n",
       "    'trail_price': None,\n",
       "    'type': <OrderType.LIMIT: 'limit'>,\n",
       "    'updated_at': datetime.datetime(2025, 1, 14, 17, 1, 16, 162647, tzinfo=TzInfo(UTC))}"
      ]
     },
     "execution_count": 5,
     "metadata": {},
     "output_type": "execute_result"
    }
   ],
   "source": [
    "res"
   ]
  },
  {
   "cell_type": "code",
   "execution_count": 7,
   "metadata": {},
   "outputs": [
    {
     "data": {
      "text/plain": [
       "{   'close_price': '19.99',\n",
       "    'close_price_date': datetime.date(2025, 1, 10),\n",
       "    'expiration_date': datetime.date(2025, 1, 16),\n",
       "    'id': 'f2dfd941-a758-4c65-9077-fa4e0fae4560',\n",
       "    'name': 'SPY Jan 16 2025 601 Put',\n",
       "    'open_interest': '51',\n",
       "    'open_interest_date': datetime.date(2025, 1, 8),\n",
       "    'root_symbol': 'SPY',\n",
       "    'size': '100',\n",
       "    'status': <AssetStatus.ACTIVE: 'active'>,\n",
       "    'strike_price': 601.0,\n",
       "    'style': <ExerciseStyle.AMERICAN: 'american'>,\n",
       "    'symbol': 'SPY250116P00601000',\n",
       "    'tradable': True,\n",
       "    'type': <ContractType.PUT: 'put'>,\n",
       "    'underlying_asset_id': UUID('b28f4066-5c6d-479b-a2af-85dc1a8f16fb'),\n",
       "    'underlying_symbol': 'SPY'}"
      ]
     },
     "execution_count": 7,
     "metadata": {},
     "output_type": "execute_result"
    }
   ],
   "source": [
    "closestOpt"
   ]
  },
  {
   "cell_type": "code",
   "execution_count": 55,
   "metadata": {},
   "outputs": [
    {
     "name": "stdout",
     "output_type": "stream",
     "text": [
      "its in there\n",
      "Index: 1, Vol: -1.0, Dir: nan\n"
     ]
    },
    {
     "data": {
      "text/html": [
       "<div>\n",
       "<style scoped>\n",
       "    .dataframe tbody tr th:only-of-type {\n",
       "        vertical-align: middle;\n",
       "    }\n",
       "\n",
       "    .dataframe tbody tr th {\n",
       "        vertical-align: top;\n",
       "    }\n",
       "\n",
       "    .dataframe thead th {\n",
       "        text-align: right;\n",
       "    }\n",
       "</style>\n",
       "<table border=\"1\" class=\"dataframe\">\n",
       "  <thead>\n",
       "    <tr style=\"text-align: right;\">\n",
       "      <th></th>\n",
       "      <th>date</th>\n",
       "      <th>vol</th>\n",
       "      <th>dir</th>\n",
       "      <th>time_impact</th>\n",
       "      <th>notes</th>\n",
       "      <th>Unnamed: 5</th>\n",
       "      <th>Unnamed: 6</th>\n",
       "    </tr>\n",
       "  </thead>\n",
       "  <tbody>\n",
       "    <tr>\n",
       "      <th>0</th>\n",
       "      <td>2025-01-20</td>\n",
       "      <td>-1.0</td>\n",
       "      <td>NaN</td>\n",
       "      <td>NaN</td>\n",
       "      <td>martin luther day off</td>\n",
       "      <td>NaN</td>\n",
       "      <td>NaN</td>\n",
       "    </tr>\n",
       "    <tr>\n",
       "      <th>1</th>\n",
       "      <td>2025-01-14</td>\n",
       "      <td>-1.0</td>\n",
       "      <td>NaN</td>\n",
       "      <td>NaN</td>\n",
       "      <td>testing</td>\n",
       "      <td>NaN</td>\n",
       "      <td>NaN</td>\n",
       "    </tr>\n",
       "    <tr>\n",
       "      <th>2</th>\n",
       "      <td>2025-01-07</td>\n",
       "      <td>NaN</td>\n",
       "      <td>NaN</td>\n",
       "      <td>NaN</td>\n",
       "      <td>NVDA 5000 series launch</td>\n",
       "      <td>NaN</td>\n",
       "      <td>HOW TO USE</td>\n",
       "    </tr>\n",
       "    <tr>\n",
       "      <th>3</th>\n",
       "      <td>2024-12-17</td>\n",
       "      <td>NaN</td>\n",
       "      <td>NaN</td>\n",
       "      <td>1.0</td>\n",
       "      <td>Fed meeting</td>\n",
       "      <td>NaN</td>\n",
       "      <td>Place date of event in date column. Leave vol ...</td>\n",
       "    </tr>\n",
       "    <tr>\n",
       "      <th>4</th>\n",
       "      <td>2024-12-11</td>\n",
       "      <td>NaN</td>\n",
       "      <td>NaN</td>\n",
       "      <td>NaN</td>\n",
       "      <td>CPI report</td>\n",
       "      <td>NaN</td>\n",
       "      <td>If more vol expected than usual, put a vol num...</td>\n",
       "    </tr>\n",
       "    <tr>\n",
       "      <th>5</th>\n",
       "      <td>2024-12-06</td>\n",
       "      <td>NaN</td>\n",
       "      <td>NaN</td>\n",
       "      <td>NaN</td>\n",
       "      <td>Labor report. expecting negative news</td>\n",
       "      <td>NaN</td>\n",
       "      <td>if positive dir expected, put a dir number &gt;.5</td>\n",
       "    </tr>\n",
       "    <tr>\n",
       "      <th>6</th>\n",
       "      <td>NaT</td>\n",
       "      <td>NaN</td>\n",
       "      <td>NaN</td>\n",
       "      <td>NaN</td>\n",
       "      <td>NaN</td>\n",
       "      <td>NaN</td>\n",
       "      <td>use the links below to add more dates to calen...</td>\n",
       "    </tr>\n",
       "    <tr>\n",
       "      <th>7</th>\n",
       "      <td>NaT</td>\n",
       "      <td>NaN</td>\n",
       "      <td>NaN</td>\n",
       "      <td>NaN</td>\n",
       "      <td>NaN</td>\n",
       "      <td>NaN</td>\n",
       "      <td>NaN</td>\n",
       "    </tr>\n",
       "    <tr>\n",
       "      <th>8</th>\n",
       "      <td>NaT</td>\n",
       "      <td>NaN</td>\n",
       "      <td>NaN</td>\n",
       "      <td>NaN</td>\n",
       "      <td>NaN</td>\n",
       "      <td>NaN</td>\n",
       "      <td>NaN</td>\n",
       "    </tr>\n",
       "    <tr>\n",
       "      <th>9</th>\n",
       "      <td>NaT</td>\n",
       "      <td>NaN</td>\n",
       "      <td>NaN</td>\n",
       "      <td>NaN</td>\n",
       "      <td>NaN</td>\n",
       "      <td>NaN</td>\n",
       "      <td>NaN</td>\n",
       "    </tr>\n",
       "    <tr>\n",
       "      <th>10</th>\n",
       "      <td>NaT</td>\n",
       "      <td>NaN</td>\n",
       "      <td>NaN</td>\n",
       "      <td>NaN</td>\n",
       "      <td>NaN</td>\n",
       "      <td>NaN</td>\n",
       "      <td>NaN</td>\n",
       "    </tr>\n",
       "    <tr>\n",
       "      <th>11</th>\n",
       "      <td>NaT</td>\n",
       "      <td>NaN</td>\n",
       "      <td>NaN</td>\n",
       "      <td>NaN</td>\n",
       "      <td>NaN</td>\n",
       "      <td>NaN</td>\n",
       "      <td>NaN</td>\n",
       "    </tr>\n",
       "    <tr>\n",
       "      <th>12</th>\n",
       "      <td>NaT</td>\n",
       "      <td>NaN</td>\n",
       "      <td>NaN</td>\n",
       "      <td>NaN</td>\n",
       "      <td>NaN</td>\n",
       "      <td>NaN</td>\n",
       "      <td>Link to CPI report page</td>\n",
       "    </tr>\n",
       "    <tr>\n",
       "      <th>13</th>\n",
       "      <td>NaT</td>\n",
       "      <td>NaN</td>\n",
       "      <td>NaN</td>\n",
       "      <td>NaN</td>\n",
       "      <td>NaN</td>\n",
       "      <td>NaN</td>\n",
       "      <td>link to labor report calendar</td>\n",
       "    </tr>\n",
       "    <tr>\n",
       "      <th>14</th>\n",
       "      <td>NaT</td>\n",
       "      <td>NaN</td>\n",
       "      <td>NaN</td>\n",
       "      <td>NaN</td>\n",
       "      <td>NaN</td>\n",
       "      <td>NaN</td>\n",
       "      <td>link to fed calendar</td>\n",
       "    </tr>\n",
       "  </tbody>\n",
       "</table>\n",
       "</div>"
      ],
      "text/plain": [
       "         date  vol  dir  time_impact                                  notes  \\\n",
       "0  2025-01-20 -1.0  NaN          NaN                  martin luther day off   \n",
       "1  2025-01-14 -1.0  NaN          NaN                                testing   \n",
       "2  2025-01-07  NaN  NaN          NaN                NVDA 5000 series launch   \n",
       "3  2024-12-17  NaN  NaN          1.0                            Fed meeting   \n",
       "4  2024-12-11  NaN  NaN          NaN                             CPI report   \n",
       "5  2024-12-06  NaN  NaN          NaN  Labor report. expecting negative news   \n",
       "6         NaT  NaN  NaN          NaN                                    NaN   \n",
       "7         NaT  NaN  NaN          NaN                                    NaN   \n",
       "8         NaT  NaN  NaN          NaN                                    NaN   \n",
       "9         NaT  NaN  NaN          NaN                                    NaN   \n",
       "10        NaT  NaN  NaN          NaN                                    NaN   \n",
       "11        NaT  NaN  NaN          NaN                                    NaN   \n",
       "12        NaT  NaN  NaN          NaN                                    NaN   \n",
       "13        NaT  NaN  NaN          NaN                                    NaN   \n",
       "14        NaT  NaN  NaN          NaN                                    NaN   \n",
       "\n",
       "    Unnamed: 5                                         Unnamed: 6  \n",
       "0          NaN                                                NaN  \n",
       "1          NaN                                                NaN  \n",
       "2          NaN                                         HOW TO USE  \n",
       "3          NaN  Place date of event in date column. Leave vol ...  \n",
       "4          NaN  If more vol expected than usual, put a vol num...  \n",
       "5          NaN     if positive dir expected, put a dir number >.5  \n",
       "6          NaN  use the links below to add more dates to calen...  \n",
       "7          NaN                                                NaN  \n",
       "8          NaN                                                NaN  \n",
       "9          NaN                                                NaN  \n",
       "10         NaN                                                NaN  \n",
       "11         NaN                                                NaN  \n",
       "12         NaN                            Link to CPI report page  \n",
       "13         NaN                      link to labor report calendar  \n",
       "14         NaN                               link to fed calendar  "
      ]
     },
     "execution_count": 55,
     "metadata": {},
     "output_type": "execute_result"
    }
   ],
   "source": [
    "import pandas as pd\n",
    "from datetime import date, timedelta\n",
    "\n",
    "sig = pd.read_excel(\"significant_dates.xlsx\", parse_dates=['date'])\n",
    "\n",
    "# date.today()-timedelta(days=7) in \n",
    "# given_date=pd.Timestamp('2025-01-07')#date.today()-timedelta(days=7)\n",
    "\n",
    "# is_in_list = (sig['date'] == given_date).any()\n",
    "# is_in_list\n",
    "\n",
    "# type(sig['date'].iloc[3])\n",
    "# type(sig.date.iloc[1])\n",
    "# for i in sig.date:\n",
    "#     print(i == pd.Timestamp(date.today())-timedelta(days=7))\n",
    "\n",
    "if (sig.date == pd.Timestamp(date.today())).any():\n",
    "    print('it''s in there')   \n",
    "else:\n",
    "    print('not thre')\n",
    "\n",
    "today_timestamp = pd.Timestamp(date.today())\n",
    "\n",
    "# Check if the date is in the column\n",
    "if today_timestamp in sig.date.values:\n",
    "    # Find the index of the date\n",
    "    index = sig.index[sig.date == today_timestamp][0]\n",
    "    \n",
    "    # Retrieve vol and dir values\n",
    "    vol = sig.loc[index, 'vol']\n",
    "    dir = sig.loc[index, 'dir']\n",
    "    \n",
    "    print(f\"Index: {index}, Vol: {vol}, Dir: {dir}\")\n",
    "else:\n",
    "    print(\"Date not found in the DataFrame.\")\n",
    "\n",
    "sig"
   ]
  }
 ],
 "metadata": {
  "kernelspec": {
   "display_name": "Python 3",
   "language": "python",
   "name": "python3"
  },
  "language_info": {
   "codemirror_mode": {
    "name": "ipython",
    "version": 3
   },
   "file_extension": ".py",
   "mimetype": "text/x-python",
   "name": "python",
   "nbconvert_exporter": "python",
   "pygments_lexer": "ipython3",
   "version": "3.12.0"
  }
 },
 "nbformat": 4,
 "nbformat_minor": 2
}
