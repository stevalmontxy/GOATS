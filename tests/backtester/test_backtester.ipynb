{
 "cells": [
  {
   "cell_type": "markdown",
   "metadata": {},
   "source": [
    "### import from separate location"
   ]
  },
  {
   "cell_type": "code",
   "execution_count": 11,
   "metadata": {},
   "outputs": [],
   "source": [
    "import sys\n",
    "sys.path.append('../../src/core/')\n",
    "# import goats\n",
    "from goats.goats import SentimentV1, Position, Option, Portfolio, Strategy, Market, Backtest\n"
   ]
  },
  {
   "cell_type": "markdown",
   "metadata": {},
   "source": [
    "#### Modular Testing\n",
    "Test:\n",
    "- Initialize Portfolio\n",
    "- Initialize an Option\n",
    "- add the option as a position to the portfolio\n",
    "- check portfolio trade book and positions\n",
    "- sell the option\n",
    "- check portfolio trade book and positions\n",
    "- \n",
    "- \n",
    "- Initialize a strategy\n",
    "- choose 3 day window (no weekend issue)\n",
    "- fuck\n",
    "  \n",
    "    \n",
    "<br>\n",
    "\n",
    "- Next, add\n",
    "    - vol and dir real\n",
    "    - comission\n",
    "    - more complication"
   ]
  },
  {
   "cell_type": "code",
   "execution_count": 15,
   "metadata": {},
   "outputs": [
    {
     "name": "stdout",
     "output_type": "stream",
     "text": [
      "<class 'pandas._libs.tslibs.timestamps.Timestamp'>\n"
     ]
    },
    {
     "ename": "NameError",
     "evalue": "name 'df' is not defined",
     "output_type": "error",
     "traceback": [
      "\u001b[1;31m---------------------------------------------------------------------------\u001b[0m",
      "\u001b[1;31mNameError\u001b[0m                                 Traceback (most recent call last)",
      "Cell \u001b[1;32mIn[15], line 24\u001b[0m\n\u001b[0;32m     21\u001b[0m opt\n\u001b[0;32m     23\u001b[0m time \u001b[38;5;241m=\u001b[39m pd\u001b[38;5;241m.\u001b[39mto_datetime(\u001b[38;5;124m'\u001b[39m\u001b[38;5;124m2023-07-17 9:30\u001b[39m\u001b[38;5;124m'\u001b[39m)\n\u001b[1;32m---> 24\u001b[0m \u001b[43mport\u001b[49m\u001b[38;5;241;43m.\u001b[39;49m\u001b[43mopenPosition\u001b[49m\u001b[43m(\u001b[49m\u001b[43mtime\u001b[49m\u001b[43m,\u001b[49m\u001b[43m \u001b[49m\u001b[38;5;241;43m2\u001b[39;49m\u001b[43m,\u001b[49m\u001b[43m \u001b[49m\u001b[43mopt\u001b[49m\u001b[43m)\u001b[49m\n\u001b[0;32m     25\u001b[0m                 \u001b[38;5;66;03m# time, qty, option\u001b[39;00m\n\u001b[0;32m     26\u001b[0m \u001b[38;5;28mprint\u001b[39m(port\u001b[38;5;241m.\u001b[39mhasPositions)                \n",
      "File \u001b[1;32mc:\\Users\\sxyan\\OneDrive\\Documents\\Github\\Options-Backtesting-Python\\tests\\backtester\\../../src/core\\goats.py:138\u001b[0m, in \u001b[0;36mPortfolio.openPosition\u001b[1;34m(self, time, qty, option, stock)\u001b[0m\n\u001b[0;32m    131\u001b[0m \u001b[38;5;28;01mdef\u001b[39;00m \u001b[38;5;21mopenPosition\u001b[39m(\u001b[38;5;28mself\u001b[39m, time, qty, option\u001b[38;5;241m=\u001b[39m\u001b[38;5;28;01mNone\u001b[39;00m, stock\u001b[38;5;241m=\u001b[39m\u001b[38;5;28;01mNone\u001b[39;00m):\n\u001b[0;32m    132\u001b[0m \u001b[38;5;250m    \u001b[39m\u001b[38;5;124;03m'''Add to positions\u001b[39;00m\n\u001b[0;32m    133\u001b[0m \u001b[38;5;124;03m    time: datetime YYYY-MM-DD HH:MM\u001b[39;00m\n\u001b[0;32m    134\u001b[0m \u001b[38;5;124;03m    qty: float\u001b[39;00m\n\u001b[0;32m    135\u001b[0m \u001b[38;5;124;03m    option: Option object\u001b[39;00m\n\u001b[0;32m    136\u001b[0m \u001b[38;5;124;03m    Stock: Stock object (not defined)\u001b[39;00m\n\u001b[0;32m    137\u001b[0m \u001b[38;5;124;03m    '''\u001b[39;00m\n\u001b[1;32m--> 138\u001b[0m     value \u001b[38;5;241m=\u001b[39m \u001b[38;5;28;43mself\u001b[39;49m\u001b[38;5;241;43m.\u001b[39;49m\u001b[43mgetOptionValue\u001b[49m\u001b[43m(\u001b[49m\u001b[43moption\u001b[49m\u001b[38;5;241;43m.\u001b[39;49m\u001b[43mexpr\u001b[49m\u001b[43m,\u001b[49m\u001b[43m \u001b[49m\u001b[43moption\u001b[49m\u001b[38;5;241;43m.\u001b[39;49m\u001b[43mstrike\u001b[49m\u001b[43m,\u001b[49m\u001b[43m \u001b[49m\u001b[43moption\u001b[49m\u001b[38;5;241;43m.\u001b[39;49m\u001b[43mstrike\u001b[49m\u001b[43m,\u001b[49m\u001b[43m \u001b[49m\u001b[43mtime\u001b[49m\u001b[43m)\u001b[49m\n\u001b[0;32m    139\u001b[0m     \u001b[38;5;28mself\u001b[39m\u001b[38;5;241m.\u001b[39mpositions[option\u001b[38;5;241m.\u001b[39mID] \u001b[38;5;241m=\u001b[39m {\u001b[38;5;124m\"\u001b[39m\u001b[38;5;124moption\u001b[39m\u001b[38;5;124m\"\u001b[39m: option, \u001b[38;5;124m\"\u001b[39m\u001b[38;5;124mopen_time\u001b[39m\u001b[38;5;124m\"\u001b[39m: time, \u001b[38;5;124m\"\u001b[39m\u001b[38;5;124minitial_value\u001b[39m\u001b[38;5;124m\"\u001b[39m: value}\n\u001b[0;32m    140\u001b[0m     \u001b[38;5;28mself\u001b[39m\u001b[38;5;241m.\u001b[39mcash \u001b[38;5;241m-\u001b[39m\u001b[38;5;241m=\u001b[39m \u001b[38;5;241m100\u001b[39m\u001b[38;5;241m*\u001b[39mvalue\n",
      "File \u001b[1;32mc:\\Users\\sxyan\\OneDrive\\Documents\\Github\\Options-Backtesting-Python\\tests\\backtester\\../../src/core\\goats.py:172\u001b[0m, in \u001b[0;36mPortfolio.getOptionValue\u001b[1;34m(self, expirDate, strike, side, time)\u001b[0m\n\u001b[0;32m    170\u001b[0m quoteDate \u001b[38;5;241m=\u001b[39m time\u001b[38;5;241m.\u001b[39mreplace(hour\u001b[38;5;241m=\u001b[39m\u001b[38;5;241m0\u001b[39m, minute\u001b[38;5;241m=\u001b[39m\u001b[38;5;241m0\u001b[39m)\n\u001b[0;32m    171\u001b[0m quoteTimeHour \u001b[38;5;241m=\u001b[39m time\u001b[38;5;241m.\u001b[39mhour \u001b[38;5;241m+\u001b[39m time\u001b[38;5;241m.\u001b[39mminute\u001b[38;5;241m/\u001b[39m\u001b[38;5;241m60\u001b[39m\n\u001b[1;32m--> 172\u001b[0m dfSlice \u001b[38;5;241m=\u001b[39m \u001b[43mdf\u001b[49m[(df[\u001b[38;5;124m\"\u001b[39m\u001b[38;5;124m[QUOTE_DATE]\u001b[39m\u001b[38;5;124m\"\u001b[39m] \u001b[38;5;241m==\u001b[39m quoteDate) \u001b[38;5;241m&\u001b[39m (df[\u001b[38;5;124m\"\u001b[39m\u001b[38;5;124m[STRIKE]\u001b[39m\u001b[38;5;124m\"\u001b[39m]\u001b[38;5;241m==\u001b[39m\u001b[38;5;28mfloat\u001b[39m(strike)) \u001b[38;5;241m&\u001b[39m (df[\u001b[38;5;124m\"\u001b[39m\u001b[38;5;124m[EXPIRE_DATE]\u001b[39m\u001b[38;5;124m\"\u001b[39m]\u001b[38;5;241m==\u001b[39mexpirDate) \u001b[38;5;241m&\u001b[39m (df[\u001b[38;5;124m\"\u001b[39m\u001b[38;5;124m[QUOTE_TIME_HOURS]\u001b[39m\u001b[38;5;124m\"\u001b[39m]\u001b[38;5;241m==\u001b[39mquoteTimeHour) ] \u001b[38;5;66;03m# gets a specific quote @ given time\u001b[39;00m\n\u001b[0;32m    174\u001b[0m \u001b[38;5;28;01mif\u001b[39;00m side \u001b[38;5;241m==\u001b[39m \u001b[38;5;124m'\u001b[39m\u001b[38;5;124mcall\u001b[39m\u001b[38;5;124m'\u001b[39m:\n\u001b[0;32m    175\u001b[0m     \u001b[38;5;28;01mreturn\u001b[39;00m \u001b[38;5;28mfloat\u001b[39m(dfSlice\u001b[38;5;241m.\u001b[39miloc[\u001b[38;5;241m0\u001b[39m][\u001b[38;5;124m\"\u001b[39m\u001b[38;5;124m[C_LAST]\u001b[39m\u001b[38;5;124m\"\u001b[39m])\n",
      "\u001b[1;31mNameError\u001b[0m: name 'df' is not defined"
     ]
    }
   ],
   "source": [
    "import pandas as pd\n",
    "\n",
    "port = Portfolio()\n",
    "opt = Option(190,'2023-07-21', 'call', 3)\n",
    "            # strike, expr, side, id\n",
    "\n",
    "# def backtestMain():\n",
    "# startDate = '1-1-2023'\n",
    "# endDate = '1-24-2023'\n",
    "# testLength = 5\n",
    "\n",
    "# data = 1#import data # import data\n",
    "# optionsdf=underlydf = 1\n",
    "# f=.25\n",
    "# strat = Strategy(SentimentV1, f)\n",
    "# bt = Backtest(strat, optionsdf, underlydf, comissionnom=.05)\n",
    "# runOut = bt.run(startDate, testLength)\n",
    "\n",
    "port\n",
    "port.trade_log\n",
    "opt\n",
    "\n",
    "time = pd.to_datetime('2023-07-17 9:30')\n",
    "port.openPosition(time, 2, opt)\n",
    "                # time, qty, option\n",
    "print(port.hasPositions)                \n",
    "port.trade_log\n",
    "port.positions"
   ]
  },
  {
   "cell_type": "code",
   "execution_count": null,
   "metadata": {},
   "outputs": [],
   "source": [
    "# TESTING FOR GETOPTVALUE FUNC\n",
    "time = '2023-07-17 9:30'\n",
    "time = pd.to_datetime(time)\n",
    "time\n",
    "strike=195#callStrike\n",
    "expirDate=expiration\n",
    "port = Portfolio()\n",
    "side='put'\n",
    "\n",
    "port\n",
    "\n",
    "price = port.getOptionValue(expiration, strike, side, time)\n",
    "# port.hasPositions\n",
    "price\n",
    "expiration"
   ]
  }
 ],
 "metadata": {
  "kernelspec": {
   "display_name": "Python 3",
   "language": "python",
   "name": "python3"
  },
  "language_info": {
   "codemirror_mode": {
    "name": "ipython",
    "version": 3
   },
   "file_extension": ".py",
   "mimetype": "text/x-python",
   "name": "python",
   "nbconvert_exporter": "python",
   "pygments_lexer": "ipython3",
   "version": "3.12.0"
  }
 },
 "nbformat": 4,
 "nbformat_minor": 2
}
