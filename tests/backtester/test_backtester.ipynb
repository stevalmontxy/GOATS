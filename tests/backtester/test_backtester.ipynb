{
 "cells": [
  {
   "cell_type": "markdown",
   "metadata": {},
   "source": [
    "#### Modular Testing\n",
    "Test:\n",
    "- Initialize Portfolio\n",
    "- Initialize an Option\n",
    "- add the option as a position to the portfolio\n",
    "- check portfolio trade book and positions\n",
    "- sell the option\n",
    "- check portfolio trade book and positions\n",
    "- \n",
    "- \n",
    "- Initialize a strategy\n",
    "- choose 3 day window (no weekend issue)\n",
    "- fuck\n",
    "  \n",
    "    \n",
    "<br>\n",
    "\n",
    "- Next, add\n",
    "    - vol and dir real\n",
    "    - comission\n",
    "    - more complication"
   ]
  },
  {
   "cell_type": "code",
   "execution_count": null,
   "metadata": {},
   "outputs": [],
   "source": [
    "port = Portfolio()\n",
    "opt = Option(190,'2023-07-21', 'call', 3)\n",
    "            # strike, expr, side, id\n",
    "\n",
    "# def backtestMain():\n",
    "# startDate = '1-1-2023'\n",
    "# endDate = '1-24-2023'\n",
    "# testLength = 5\n",
    "\n",
    "# data = 1#import data # import data\n",
    "# optionsdf=underlydf = 1\n",
    "# f=.25\n",
    "# strat = Strategy(SentimentV1, f)\n",
    "# bt = Backtest(strat, optionsdf, underlydf, comissionnom=.05)\n",
    "# runOut = bt.run(startDate, testLength)\n",
    "\n",
    "port\n",
    "port.trade_log\n",
    "opt\n",
    "\n",
    "time = pd.to_datetime('2023-07-17 9:30')\n",
    "port.openPosition(time, 2, opt)\n",
    "                # time, qty, option\n",
    "print(port.hasPositions)                \n",
    "port.trade_log\n",
    "port.positions"
   ]
  },
  {
   "cell_type": "code",
   "execution_count": null,
   "metadata": {},
   "outputs": [],
   "source": [
    "# TESTING FOR GETOPTVALUE FUNC\n",
    "time = '2023-07-17 9:30'\n",
    "time = pd.to_datetime(time)\n",
    "time\n",
    "strike=195#callStrike\n",
    "expirDate=expiration\n",
    "port = Portfolio()\n",
    "side='put'\n",
    "\n",
    "port\n",
    "\n",
    "price = port.getOptionValue(expiration, strike, side, time)\n",
    "# port.hasPositions\n",
    "price\n",
    "expiration"
   ]
  }
 ],
 "metadata": {
  "kernelspec": {
   "display_name": "Python 3",
   "language": "python",
   "name": "python3"
  },
  "language_info": {
   "name": "python",
   "version": "3.12.0"
  }
 },
 "nbformat": 4,
 "nbformat_minor": 2
}
